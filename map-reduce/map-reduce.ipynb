{
 "cells": [
  {
   "cell_type": "markdown",
   "metadata": {},
   "source": [
    "# Final Project Map Reduce Notebook"
   ]
  },
  {
   "cell_type": "markdown",
   "metadata": {},
   "source": [
    "### Define the working directory (main folder)"
   ]
  },
  {
   "cell_type": "code",
   "execution_count": 1,
   "metadata": {},
   "outputs": [
    {
     "name": "stdout",
     "output_type": "stream",
     "text": [
      "/home/jovyan/work/SPBD/code\n"
     ]
    }
   ],
   "source": [
    "%cd ~/work/SPBD/code/"
   ]
  },
  {
   "cell_type": "markdown",
   "metadata": {},
   "source": [
    "### Remove logs"
   ]
  },
  {
   "cell_type": "code",
   "execution_count": 2,
   "metadata": {},
   "outputs": [],
   "source": [
    "!rm ./*/*.log"
   ]
  },
  {
   "cell_type": "code",
   "execution_count": 3,
   "metadata": {},
   "outputs": [],
   "source": [
    "!chmod a+x ./*/*.py"
   ]
  },
  {
   "cell_type": "markdown",
   "metadata": {},
   "source": [
    "## Test Dataset"
   ]
  },
  {
   "cell_type": "markdown",
   "metadata": {},
   "source": [
    "### P1"
   ]
  },
  {
   "cell_type": "markdown",
   "metadata": {},
   "source": [
    "#### P1.01"
   ]
  },
  {
   "cell_type": "markdown",
   "metadata": {},
   "source": [
    "##### Mapper"
   ]
  },
  {
   "cell_type": "code",
   "execution_count": 4,
   "metadata": {},
   "outputs": [],
   "source": [
    "# %load ./map-reduce/P1/map_p1_01.py\n",
    "from sys import stdin\n",
    "import logging\n",
    "\n",
    "def main():\n",
    "    stdin.readline()\n",
    "    for line in stdin:\n",
    "        line = line.strip()\n",
    "        print(f\"{line.split(',')[24]}:1\")\n",
    "\n",
    "\n",
    "if __name__ == '__main__':\n",
    "    logging.basicConfig(filename='./map-reduce/debug.log', level=logging.DEBUG)\n",
    "    main()"
   ]
  },
  {
   "cell_type": "markdown",
   "metadata": {},
   "source": [
    "##### Reducer"
   ]
  },
  {
   "cell_type": "code",
   "execution_count": 5,
   "metadata": {},
   "outputs": [
    {
     "name": "stdout",
     "output_type": "stream",
     "text": [
      "None:1\n"
     ]
    }
   ],
   "source": [
    "# %load ./map-reduce/P1/reduce_p1_01.py\n",
    "from sys import stdin\n",
    "import logging\n",
    "\n",
    "def main():\n",
    "    current_key = None\n",
    "    accumulator = 1\n",
    "    for line in stdin:\n",
    "        line = line.strip()\n",
    "        key, value = line.split(':')\n",
    "        if key != current_key:\n",
    "            if current_key: \n",
    "                print(f\"{current_key}:{accumulator}\")\n",
    "            current_key = key\n",
    "            accumulator = int(value)\n",
    "        else:\n",
    "            accumulator += int(value)\n",
    "    print(f\"{current_key}:{accumulator}\")\n",
    "\n",
    "if __name__ == '__main__':\n",
    "    logging.basicConfig(filename='./map-reduce/debug.log', level=logging.DEBUG)\n",
    "    main()"
   ]
  },
  {
   "cell_type": "markdown",
   "metadata": {},
   "source": [
    "##### Result"
   ]
  },
  {
   "cell_type": "code",
   "execution_count": 6,
   "metadata": {},
   "outputs": [],
   "source": [
    "!cat ./data/epa_hap_daily_summary-small.csv | python map-reduce/P1/map_p1_01.py |sort -k1,1 | python map-reduce/P1/reduce_p1_01.py > ./map-reduce/P1/p1_01.log "
   ]
  },
  {
   "cell_type": "markdown",
   "metadata": {},
   "source": [
    "#### P1.02"
   ]
  },
  {
   "cell_type": "markdown",
   "metadata": {},
   "source": [
    "##### Mapper"
   ]
  },
  {
   "cell_type": "code",
   "execution_count": 7,
   "metadata": {},
   "outputs": [],
   "source": [
    "# %load ./map-reduce/map_p1_02.py\n",
    "from sys import stdin\n",
    "import logging\n",
    "\n",
    "MAGIC = 999999999\n",
    "\n",
    "def main():\n",
    "    stdin.readline()\n",
    "    for line in stdin:\n",
    "        line = line.strip()\n",
    "        logging.debug(line)\n",
    "        key, value = line.split(':')\n",
    "        print(f\"{MAGIC - int(value)}:{key}\")\n",
    "\n",
    "\n",
    "if __name__ == '__main__':\n",
    "    logging.basicConfig(filename='./map-reduce/debug.log', level=logging.DEBUG)\n",
    "    main()"
   ]
  },
  {
   "cell_type": "markdown",
   "metadata": {},
   "source": [
    "##### Reducer"
   ]
  },
  {
   "cell_type": "code",
   "execution_count": 8,
   "metadata": {},
   "outputs": [],
   "source": [
    "# %load ./map-reduce/map_p1_02.py\n",
    "from sys import stdin\n",
    "import logging\n",
    "\n",
    "MAGIC = 999999999\n",
    "\n",
    "def main():\n",
    "    stdin.readline()\n",
    "    for line in stdin:\n",
    "        line = line.strip()\n",
    "        logging.debug(line)\n",
    "        key, value = line.split(':')\n",
    "        print(f\"{MAGIC - int(value)}:{key}\")\n",
    "\n",
    "\n",
    "if __name__ == '__main__':\n",
    "    logging.basicConfig(filename='./map-reduce/debug.log', level=logging.DEBUG)\n",
    "    main()"
   ]
  },
  {
   "cell_type": "markdown",
   "metadata": {},
   "source": [
    "##### Result"
   ]
  },
  {
   "cell_type": "code",
   "execution_count": 9,
   "metadata": {},
   "outputs": [],
   "source": [
    "!cat ./data/epa_hap_daily_summary-small.csv | python map-reduce/P1/map_p1_01.py | sort -k1,1 | python map-reduce/P1/reduce_p1_01.py | python map-reduce/P1/map_p1_02.py | sort -k1,1 | python map-reduce/P1/reduce_p1_02.py > ./map-reduce/P1/p1_02.log"
   ]
  },
  {
   "cell_type": "markdown",
   "metadata": {},
   "source": [
    "#### Result P1"
   ]
  },
  {
   "cell_type": "code",
   "execution_count": 10,
   "metadata": {},
   "outputs": [
    {
     "name": "stdout",
     "output_type": "stream",
     "text": [
      "1. Texas:51237\r\n",
      "2. California:43803\r\n",
      "3. Minnesota:22084\r\n",
      "4. New York:17570\r\n",
      "5. Michigan:15280\r\n",
      "6. Pennsylvania:13680\r\n",
      "7. Arizona:11379\r\n",
      "8. Florida:10994\r\n",
      "9. Indiana:10951\r\n",
      "10. Illinois:10018\r\n",
      "11. South Carolina:9716\r\n",
      "12. Georgia:9050\r\n",
      "13. Washington:8865\r\n",
      "14. Ohio:8561\r\n",
      "15. Colorado:8506\r\n",
      "16. Oregon:7857\r\n",
      "17. North Carolina:7565\r\n",
      "18. Rhode Island:6919\r\n",
      "19. Kansas:6898\r\n",
      "20. Maryland:6846\r\n",
      "21. Montana:6406\r\n",
      "22. New Jersey:6403\r\n",
      "23. Virginia:6376\r\n",
      "24. Massachusetts:6109\r\n",
      "25. Kentucky:6094\r\n",
      "26. Oklahoma:5711\r\n",
      "27. Maine:5286\r\n",
      "28. Vermont:4858\r\n",
      "29. Utah:4852\r\n",
      "30. Missouri:4742\r\n",
      "31. Louisiana:4674\r\n",
      "32. Wisconsin:4007\r\n",
      "33. New Mexico:3973\r\n",
      "34. Tennessee:3626\r\n",
      "35. Iowa:3542\r\n",
      "36. Alaska:3216\r\n",
      "37. Wyoming:3149\r\n",
      "38. West Virginia:2998\r\n",
      "39. District Of Columbia:2964\r\n",
      "40. Idaho:2825\r\n",
      "41. South Dakota:2734\r\n",
      "42. Delaware:2469\r\n",
      "43. Nevada:2297\r\n",
      "44. Mississippi:2245\r\n",
      "45. New Hampshire:1967\r\n",
      "46. North Dakota:1934\r\n",
      "47. Hawaii:1926\r\n",
      "48. Arkansas:1655\r\n",
      "49. Nebraska:1350\r\n",
      "50. Connecticut:1290\r\n",
      "51. Virgin Islands:651\r\n",
      "52. Country Of Mexico:523\r\n",
      "53. Puerto Rico:521\r\n"
     ]
    }
   ],
   "source": [
    "!cat ./map-reduce/P1/p1_02.log"
   ]
  },
  {
   "cell_type": "markdown",
   "metadata": {},
   "source": [
    "### P2"
   ]
  },
  {
   "cell_type": "markdown",
   "metadata": {},
   "source": [
    "#### P2.01"
   ]
  },
  {
   "cell_type": "code",
   "execution_count": null,
   "metadata": {},
   "outputs": [],
   "source": []
  }
 ],
 "metadata": {
  "kernelspec": {
   "display_name": "Python 3",
   "language": "python",
   "name": "python3"
  },
  "language_info": {
   "codemirror_mode": {
    "name": "ipython",
    "version": 3
   },
   "file_extension": ".py",
   "mimetype": "text/x-python",
   "name": "python",
   "nbconvert_exporter": "python",
   "pygments_lexer": "ipython3",
   "version": "3.8.10"
  }
 },
 "nbformat": 4,
 "nbformat_minor": 2
}
