{
 "cells": [
  {
   "cell_type": "markdown",
   "metadata": {},
   "source": [
    "# Final Project Map Reduce Notebook"
   ]
  },
  {
   "cell_type": "markdown",
   "metadata": {},
   "source": [
    "### Small Data"
   ]
  },
  {
   "cell_type": "markdown",
   "metadata": {},
   "source": [
    "### Make all scripts executable"
   ]
  },
  {
   "cell_type": "code",
   "execution_count": 2,
   "metadata": {},
   "outputs": [
    {
     "name": "stdout",
     "output_type": "stream",
     "text": [
      "chmod: changing permissions of './P1/map_p1_01.py': Operation not permitted\n",
      "chmod: changing permissions of './P1/map_p1_02.py': Operation not permitted\n",
      "chmod: changing permissions of './P1/map_p1_03.py': Operation not permitted\n",
      "chmod: changing permissions of './P1/reduce_p1_01.py': Operation not permitted\n",
      "chmod: changing permissions of './P1/reduce_p1_02.py': Operation not permitted\n",
      "chmod: changing permissions of './P1/reduce_p1_03.py': Operation not permitted\n",
      "chmod: changing permissions of './P2/Map2A.py': Operation not permitted\n",
      "chmod: changing permissions of './P2/Map2B.py': Operation not permitted\n",
      "chmod: changing permissions of './P2/Reduce2A.py': Operation not permitted\n",
      "chmod: changing permissions of './P2/Reduce2B.py': Operation not permitted\n",
      "chmod: changing permissions of './P3/ex3m1.py': Operation not permitted\n",
      "chmod: changing permissions of './P3/ex3m2.py': Operation not permitted\n",
      "chmod: changing permissions of './P3/ex3r1.py': Operation not permitted\n",
      "chmod: changing permissions of './P3/ex3r2.py': Operation not permitted\n",
      "chmod: changing permissions of './P4/map_p4_01.py': Operation not permitted\n",
      "chmod: changing permissions of './P4/map_p4_02.py': Operation not permitted\n",
      "chmod: changing permissions of './P4/map_p4_03.py': Operation not permitted\n",
      "chmod: changing permissions of './P4/reduce_p4_01.py': Operation not permitted\n",
      "chmod: changing permissions of './P4/reduce_p4_02.py': Operation not permitted\n",
      "chmod: changing permissions of './P4/reduce_p4_03.py': Operation not permitted\n",
      "chmod: changing permissions of './P5/ex5m1.py': Operation not permitted\n",
      "chmod: changing permissions of './P5/ex5m2.py': Operation not permitted\n",
      "chmod: changing permissions of './P5/ex5r1.py': Operation not permitted\n",
      "chmod: changing permissions of './P5/ex5r2.py': Operation not permitted\n"
     ]
    }
   ],
   "source": [
    "!chmod a+x ./*/*.py"
   ]
  },
  {
   "cell_type": "markdown",
   "metadata": {},
   "source": [
    "### Remove all Results"
   ]
  },
  {
   "cell_type": "code",
   "execution_count": 9,
   "metadata": {},
   "outputs": [
    {
     "name": "stdout",
     "output_type": "stream",
     "text": [
      "rm: cannot remove './P1/p1_01.log': Is a directory\r\n"
     ]
    }
   ],
   "source": [
    "!rm .rf/*/*.result"
   ]
  },
  {
   "cell_type": "markdown",
   "metadata": {},
   "source": [
    "## Test Dataset"
   ]
  },
  {
   "cell_type": "markdown",
   "metadata": {},
   "source": [
    "### P1"
   ]
  },
  {
   "cell_type": "markdown",
   "metadata": {},
   "source": [
    "#### P1.01"
   ]
  },
  {
   "cell_type": "markdown",
   "metadata": {},
   "source": [
    "##### Mapper"
   ]
  },
  {
   "cell_type": "code",
   "execution_count": null,
   "metadata": {},
   "outputs": [],
   "source": [
    "# %load ./P1/map_p1_01.py\n",
    "from sys import stdin\n",
    "import logging\n",
    "\n",
    "def main():\n",
    "    stdin.readline()\n",
    "    for line in stdin:\n",
    "        line = line.strip()\n",
    "        line = line.split(',')\n",
    "        # Monitor_id:County_Code:State_Name\n",
    "        print(f\"{line[2]}:{line[0]+line[1]}:{line[24]}\")\n",
    "\n",
    "\n",
    "if __name__ == '__main__':\n",
    "    main()\n"
   ]
  },
  {
   "cell_type": "markdown",
   "metadata": {},
   "source": [
    "##### Reducer"
   ]
  },
  {
   "cell_type": "code",
   "execution_count": null,
   "metadata": {},
   "outputs": [],
   "source": [
    "# %load ./P1/reduce_p1_01.py\n",
    "from sys import stdin\n",
    "import logging\n",
    "\n",
    "\n",
    "\n",
    "def main():\n",
    "    last_id = None\n",
    "    last_county = None\n",
    "    \n",
    "    for line in stdin:\n",
    "        line = line.strip()\n",
    "        id, county, state = line.split(':')\n",
    "        if id != last_id or county != last_county:\n",
    "            print(f\"{id}:{state}\")\n",
    "            last_id = id\n",
    "            last_county = county\n",
    "\n",
    "\n",
    "if __name__ == '__main__':\n",
    "    main()"
   ]
  },
  {
   "cell_type": "markdown",
   "metadata": {},
   "source": [
    "##### Result"
   ]
  },
  {
   "cell_type": "code",
   "execution_count": 12,
   "metadata": {},
   "outputs": [
    {
     "name": "stdout",
     "output_type": "stream",
     "text": [
      "2021-12-22 14:40:52,773 INFO impl.MetricsConfig: Loaded properties from hadoop-metrics2.properties\n",
      "2021-12-22 14:40:52,836 INFO impl.MetricsSystemImpl: Scheduled Metric snapshot period at 10 second(s).\n",
      "2021-12-22 14:40:52,836 INFO impl.MetricsSystemImpl: JobTracker metrics system started\n",
      "2021-12-22 14:40:52,848 WARN impl.MetricsSystemImpl: JobTracker metrics system already initialized!\n",
      "2021-12-22 14:40:53,009 INFO mapred.FileInputFormat: Total input files to process : 1\n",
      "2021-12-22 14:40:53,021 INFO mapreduce.JobSubmitter: number of splits:4\n",
      "2021-12-22 14:40:53,131 INFO mapreduce.JobSubmitter: Submitting tokens for job: job_local1136996728_0001\n",
      "2021-12-22 14:40:53,132 INFO mapreduce.JobSubmitter: Executing with tokens: []\n",
      "2021-12-22 14:40:53,352 INFO mapred.LocalDistributedCacheManager: Creating symlink: /tmp/hadoop-jovyan/mapred/local/job_local1136996728_0001_98f4193a-20f6-4e28-a800-2d92134f5b7b/map_p1_01.py <- /home/jovyan/work/SPBD/map-reduce/map_p1_01.py\n",
      "2021-12-22 14:40:53,357 INFO mapred.LocalDistributedCacheManager: Localized file:/home/jovyan/work/SPBD/map-reduce/P1/map_p1_01.py as file:/tmp/hadoop-jovyan/mapred/local/job_local1136996728_0001_98f4193a-20f6-4e28-a800-2d92134f5b7b/map_p1_01.py\n",
      "2021-12-22 14:40:53,416 INFO mapred.LocalDistributedCacheManager: Creating symlink: /tmp/hadoop-jovyan/mapred/local/job_local1136996728_0001_b8217ec3-0dbd-4d34-a903-686965d57425/reduce_p1_01.py <- /home/jovyan/work/SPBD/map-reduce/reduce_p1_01.py\n",
      "2021-12-22 14:40:53,420 INFO mapred.LocalDistributedCacheManager: Localized file:/home/jovyan/work/SPBD/map-reduce/P1/reduce_p1_01.py as file:/tmp/hadoop-jovyan/mapred/local/job_local1136996728_0001_b8217ec3-0dbd-4d34-a903-686965d57425/reduce_p1_01.py\n",
      "2021-12-22 14:40:53,502 INFO mapreduce.Job: The url to track the job: http://localhost:8080/\n",
      "2021-12-22 14:40:53,504 INFO mapreduce.Job: Running job: job_local1136996728_0001\n",
      "2021-12-22 14:40:53,504 INFO mapred.LocalJobRunner: OutputCommitter set in config null\n",
      "2021-12-22 14:40:53,506 INFO mapred.LocalJobRunner: OutputCommitter is org.apache.hadoop.mapred.FileOutputCommitter\n",
      "2021-12-22 14:40:53,509 INFO output.FileOutputCommitter: File Output Committer Algorithm version is 2\n",
      "2021-12-22 14:40:53,510 INFO output.FileOutputCommitter: FileOutputCommitter skip cleanup _temporary folders under output directory:false, ignore cleanup failures: false\n",
      "2021-12-22 14:40:53,585 INFO mapred.LocalJobRunner: Waiting for map tasks\n",
      "2021-12-22 14:40:53,588 INFO mapred.LocalJobRunner: Starting task: attempt_local1136996728_0001_m_000000_0\n",
      "2021-12-22 14:40:53,605 INFO output.FileOutputCommitter: File Output Committer Algorithm version is 2\n",
      "2021-12-22 14:40:53,605 INFO output.FileOutputCommitter: FileOutputCommitter skip cleanup _temporary folders under output directory:false, ignore cleanup failures: false\n",
      "2021-12-22 14:40:53,622 INFO mapred.Task:  Using ResourceCalculatorProcessTree : [ ]\n",
      "2021-12-22 14:40:53,631 INFO mapred.MapTask: Processing split: file:/home/jovyan/work/SPBD/data/epa_hap_daily_summary-small.csv:0+33554432\n",
      "2021-12-22 14:40:53,664 INFO mapred.MapTask: numReduceTasks: 1\n",
      "2021-12-22 14:40:53,689 INFO mapred.MapTask: (EQUATOR) 0 kvi 26214396(104857584)\n",
      "2021-12-22 14:40:53,689 INFO mapred.MapTask: mapreduce.task.io.sort.mb: 100\n",
      "2021-12-22 14:40:53,689 INFO mapred.MapTask: soft limit at 83886080\n",
      "2021-12-22 14:40:53,689 INFO mapred.MapTask: bufstart = 0; bufvoid = 104857600\n",
      "2021-12-22 14:40:53,689 INFO mapred.MapTask: kvstart = 26214396; length = 6553600\n",
      "2021-12-22 14:40:53,692 INFO mapred.MapTask: Map output collector class = org.apache.hadoop.mapred.MapTask$MapOutputBuffer\n",
      "2021-12-22 14:40:53,702 INFO streaming.PipeMapRed: PipeMapRed exec [/opt/conda/bin/python, ./P1/map_p1_01.py]\n",
      "2021-12-22 14:40:53,708 INFO Configuration.deprecation: mapred.work.output.dir is deprecated. Instead, use mapreduce.task.output.dir\n",
      "2021-12-22 14:40:53,709 INFO Configuration.deprecation: map.input.start is deprecated. Instead, use mapreduce.map.input.start\n",
      "2021-12-22 14:40:53,709 INFO Configuration.deprecation: mapred.task.is.map is deprecated. Instead, use mapreduce.task.ismap\n",
      "2021-12-22 14:40:53,709 INFO Configuration.deprecation: mapred.task.id is deprecated. Instead, use mapreduce.task.attempt.id\n",
      "2021-12-22 14:40:53,710 INFO Configuration.deprecation: mapred.tip.id is deprecated. Instead, use mapreduce.task.id\n",
      "2021-12-22 14:40:53,710 INFO Configuration.deprecation: mapred.local.dir is deprecated. Instead, use mapreduce.cluster.local.dir\n",
      "2021-12-22 14:40:53,710 INFO Configuration.deprecation: map.input.file is deprecated. Instead, use mapreduce.map.input.file\n",
      "2021-12-22 14:40:53,710 INFO Configuration.deprecation: mapred.skip.on is deprecated. Instead, use mapreduce.job.skiprecords\n",
      "2021-12-22 14:40:53,710 INFO Configuration.deprecation: map.input.length is deprecated. Instead, use mapreduce.map.input.length\n",
      "2021-12-22 14:40:53,711 INFO Configuration.deprecation: mapred.job.id is deprecated. Instead, use mapreduce.job.id\n",
      "2021-12-22 14:40:53,711 INFO Configuration.deprecation: user.name is deprecated. Instead, use mapreduce.job.user.name\n",
      "2021-12-22 14:40:53,711 INFO Configuration.deprecation: mapred.task.partition is deprecated. Instead, use mapreduce.task.partition\n",
      "2021-12-22 14:40:53,728 INFO mapred.LineRecordReader: Found UTF-8 BOM and skipped it\n",
      "2021-12-22 14:40:53,728 INFO streaming.PipeMapRed: R/W/S=1/0/0 in:NA [rec/s] out:NA [rec/s]\n",
      "2021-12-22 14:40:53,729 INFO streaming.PipeMapRed: R/W/S=10/0/0 in:NA [rec/s] out:NA [rec/s]\n",
      "2021-12-22 14:40:53,736 INFO streaming.PipeMapRed: R/W/S=100/0/0 in:NA [rec/s] out:NA [rec/s]\n",
      "2021-12-22 14:40:53,802 INFO streaming.PipeMapRed: Records R/W=493/1\n",
      "2021-12-22 14:40:53,820 INFO streaming.PipeMapRed: R/W/S=1000/722/0 in:NA [rec/s] out:NA [rec/s]\n",
      "2021-12-22 14:40:53,965 INFO streaming.PipeMapRed: R/W/S=10000/9708/0 in:NA [rec/s] out:NA [rec/s]\n",
      "2021-12-22 14:40:54,510 INFO mapreduce.Job: Job job_local1136996728_0001 running in uber mode : false\n",
      "2021-12-22 14:40:54,519 INFO mapreduce.Job:  map 0% reduce 0%\n",
      "2021-12-22 14:40:55,493 INFO streaming.PipeMapRed: R/W/S=100000/99772/0 in:100000=100000/1 [rec/s] out:99793=99793/1 [rec/s]\n",
      "2021-12-22 14:40:55,626 INFO streaming.PipeMapRed: MRErrorThread done\n",
      "2021-12-22 14:40:55,626 INFO streaming.PipeMapRed: mapRedFinished\n",
      "2021-12-22 14:40:55,629 INFO mapred.LocalJobRunner: \n",
      "2021-12-22 14:40:55,629 INFO mapred.MapTask: Starting flush of map output\n",
      "2021-12-22 14:40:55,629 INFO mapred.MapTask: Spilling map output\n",
      "2021-12-22 14:40:55,629 INFO mapred.MapTask: bufstart = 0; bufend = 2351483; bufvoid = 104857600\n",
      "2021-12-22 14:40:55,629 INFO mapred.MapTask: kvstart = 26214396(104857584); kvend = 25772704(103090816); length = 441693/6553600\n",
      "2021-12-22 14:40:55,815 INFO mapred.MapTask: Finished spill 0\n",
      "2021-12-22 14:40:55,823 INFO mapred.Task: Task:attempt_local1136996728_0001_m_000000_0 is done. And is in the process of committing\n",
      "2021-12-22 14:40:55,828 INFO mapred.LocalJobRunner: Records R/W=493/1\n",
      "2021-12-22 14:40:55,828 INFO mapred.Task: Task 'attempt_local1136996728_0001_m_000000_0' done.\n",
      "2021-12-22 14:40:55,834 INFO mapred.Task: Final Counters for attempt_local1136996728_0001_m_000000_0: Counters: 17\n",
      "\tFile System Counters\n",
      "\t\tFILE: Number of bytes read=33736393\n",
      "\t\tFILE: Number of bytes written=3271494\n",
      "\t\tFILE: Number of read operations=0\n",
      "\t\tFILE: Number of large read operations=0\n",
      "\t\tFILE: Number of write operations=0\n",
      "\tMap-Reduce Framework\n",
      "\t\tMap input records=110425\n",
      "\t\tMap output records=110424\n",
      "\t\tMap output bytes=2351483\n",
      "\t\tMap output materialized bytes=2572337\n",
      "\t\tInput split bytes=116\n",
      "\t\tCombine input records=0\n",
      "\t\tSpilled Records=110424\n",
      "\t\tFailed Shuffles=0\n",
      "\t\tMerged Map outputs=0\n",
      "\t\tGC time elapsed (ms)=0\n",
      "\t\tTotal committed heap usage (bytes)=262668288\n",
      "\tFile Input Format Counters \n",
      "\t\tBytes Read=33558528\n",
      "2021-12-22 14:40:55,834 INFO mapred.LocalJobRunner: Finishing task: attempt_local1136996728_0001_m_000000_0\n",
      "2021-12-22 14:40:55,835 INFO mapred.LocalJobRunner: Starting task: attempt_local1136996728_0001_m_000001_0\n",
      "2021-12-22 14:40:55,835 INFO output.FileOutputCommitter: File Output Committer Algorithm version is 2\n",
      "2021-12-22 14:40:55,836 INFO output.FileOutputCommitter: FileOutputCommitter skip cleanup _temporary folders under output directory:false, ignore cleanup failures: false\n",
      "2021-12-22 14:40:55,836 INFO mapred.Task:  Using ResourceCalculatorProcessTree : [ ]\n",
      "2021-12-22 14:40:55,837 INFO mapred.MapTask: Processing split: file:/home/jovyan/work/SPBD/data/epa_hap_daily_summary-small.csv:33554432+33554432\n"
     ]
    },
    {
     "name": "stdout",
     "output_type": "stream",
     "text": [
      "2021-12-22 14:40:55,861 INFO mapred.MapTask: numReduceTasks: 1\n",
      "2021-12-22 14:40:55,888 INFO mapred.MapTask: (EQUATOR) 0 kvi 26214396(104857584)\n",
      "2021-12-22 14:40:55,889 INFO mapred.MapTask: mapreduce.task.io.sort.mb: 100\n",
      "2021-12-22 14:40:55,889 INFO mapred.MapTask: soft limit at 83886080\n",
      "2021-12-22 14:40:55,889 INFO mapred.MapTask: bufstart = 0; bufvoid = 104857600\n",
      "2021-12-22 14:40:55,889 INFO mapred.MapTask: kvstart = 26214396; length = 6553600\n",
      "2021-12-22 14:40:55,890 INFO mapred.MapTask: Map output collector class = org.apache.hadoop.mapred.MapTask$MapOutputBuffer\n",
      "2021-12-22 14:40:55,897 INFO streaming.PipeMapRed: PipeMapRed exec [/opt/conda/bin/python, ./P1/map_p1_01.py]\n",
      "2021-12-22 14:40:55,909 INFO streaming.PipeMapRed: R/W/S=1/0/0 in:NA [rec/s] out:NA [rec/s]\n",
      "2021-12-22 14:40:55,909 INFO streaming.PipeMapRed: R/W/S=10/0/0 in:NA [rec/s] out:NA [rec/s]\n",
      "2021-12-22 14:40:55,912 INFO streaming.PipeMapRed: R/W/S=100/0/0 in:NA [rec/s] out:NA [rec/s]\n",
      "2021-12-22 14:40:55,990 INFO streaming.PipeMapRed: Records R/W=485/1\n",
      "2021-12-22 14:40:56,001 INFO streaming.PipeMapRed: R/W/S=1000/809/0 in:NA [rec/s] out:NA [rec/s]\n",
      "2021-12-22 14:40:56,135 INFO streaming.PipeMapRed: R/W/S=10000/9700/0 in:NA [rec/s] out:NA [rec/s]\n",
      "2021-12-22 14:40:56,524 INFO mapreduce.Job:  map 100% reduce 0%\n",
      "2021-12-22 14:40:57,468 INFO streaming.PipeMapRed: R/W/S=100000/99701/0 in:100000=100000/1 [rec/s] out:99701=99701/1 [rec/s]\n",
      "2021-12-22 14:40:57,596 INFO streaming.PipeMapRed: MRErrorThread done\n",
      "2021-12-22 14:40:57,597 INFO streaming.PipeMapRed: mapRedFinished\n",
      "2021-12-22 14:40:57,598 INFO mapred.LocalJobRunner: \n",
      "2021-12-22 14:40:57,598 INFO mapred.MapTask: Starting flush of map output\n",
      "2021-12-22 14:40:57,598 INFO mapred.MapTask: Spilling map output\n",
      "2021-12-22 14:40:57,598 INFO mapred.MapTask: bufstart = 0; bufend = 2353828; bufvoid = 104857600\n",
      "2021-12-22 14:40:57,598 INFO mapred.MapTask: kvstart = 26214396(104857584); kvend = 25772740(103090960); length = 441657/6553600\n",
      "2021-12-22 14:40:57,718 INFO mapred.MapTask: Finished spill 0\n",
      "2021-12-22 14:40:57,721 INFO mapred.Task: Task:attempt_local1136996728_0001_m_000001_0 is done. And is in the process of committing\n",
      "2021-12-22 14:40:57,725 INFO mapred.LocalJobRunner: Records R/W=485/1\n",
      "2021-12-22 14:40:57,726 INFO mapred.Task: Task 'attempt_local1136996728_0001_m_000001_0' done.\n",
      "2021-12-22 14:40:57,726 INFO mapred.Task: Final Counters for attempt_local1136996728_0001_m_000001_0: Counters: 17\n",
      "\tFile System Counters\n",
      "\t\tFILE: Number of bytes read=67295404\n",
      "\t\tFILE: Number of bytes written=5846190\n",
      "\t\tFILE: Number of read operations=0\n",
      "\t\tFILE: Number of large read operations=0\n",
      "\t\tFILE: Number of write operations=0\n",
      "\tMap-Reduce Framework\n",
      "\t\tMap input records=110416\n",
      "\t\tMap output records=110415\n",
      "\t\tMap output bytes=2353828\n",
      "\t\tMap output materialized bytes=2574664\n",
      "\t\tInput split bytes=116\n",
      "\t\tCombine input records=0\n",
      "\t\tSpilled Records=110415\n",
      "\t\tFailed Shuffles=0\n",
      "\t\tMerged Map outputs=0\n",
      "\t\tGC time elapsed (ms)=7\n",
      "\t\tTotal committed heap usage (bytes)=433061888\n",
      "\tFile Input Format Counters \n",
      "\t\tBytes Read=33558528\n",
      "2021-12-22 14:40:57,726 INFO mapred.LocalJobRunner: Finishing task: attempt_local1136996728_0001_m_000001_0\n",
      "2021-12-22 14:40:57,726 INFO mapred.LocalJobRunner: Starting task: attempt_local1136996728_0001_m_000002_0\n",
      "2021-12-22 14:40:57,727 INFO output.FileOutputCommitter: File Output Committer Algorithm version is 2\n",
      "2021-12-22 14:40:57,727 INFO output.FileOutputCommitter: FileOutputCommitter skip cleanup _temporary folders under output directory:false, ignore cleanup failures: false\n",
      "2021-12-22 14:40:57,728 INFO mapred.Task:  Using ResourceCalculatorProcessTree : [ ]\n",
      "2021-12-22 14:40:57,729 INFO mapred.MapTask: Processing split: file:/home/jovyan/work/SPBD/data/epa_hap_daily_summary-small.csv:67108864+33554432\n",
      "2021-12-22 14:40:57,749 INFO mapred.MapTask: numReduceTasks: 1\n",
      "2021-12-22 14:40:57,767 INFO mapred.MapTask: (EQUATOR) 0 kvi 26214396(104857584)\n",
      "2021-12-22 14:40:57,767 INFO mapred.MapTask: mapreduce.task.io.sort.mb: 100\n",
      "2021-12-22 14:40:57,767 INFO mapred.MapTask: soft limit at 83886080\n",
      "2021-12-22 14:40:57,767 INFO mapred.MapTask: bufstart = 0; bufvoid = 104857600\n",
      "2021-12-22 14:40:57,767 INFO mapred.MapTask: kvstart = 26214396; length = 6553600\n",
      "2021-12-22 14:40:57,768 INFO mapred.MapTask: Map output collector class = org.apache.hadoop.mapred.MapTask$MapOutputBuffer\n",
      "2021-12-22 14:40:57,773 INFO streaming.PipeMapRed: PipeMapRed exec [/opt/conda/bin/python, ./P1/map_p1_01.py]\n",
      "2021-12-22 14:40:57,782 INFO streaming.PipeMapRed: R/W/S=1/0/0 in:NA [rec/s] out:NA [rec/s]\n",
      "2021-12-22 14:40:57,782 INFO streaming.PipeMapRed: R/W/S=10/0/0 in:NA [rec/s] out:NA [rec/s]\n",
      "2021-12-22 14:40:57,784 INFO streaming.PipeMapRed: R/W/S=100/0/0 in:NA [rec/s] out:NA [rec/s]\n",
      "2021-12-22 14:40:58,154 INFO streaming.PipeMapRed: Records R/W=604/1\n",
      "2021-12-22 14:40:58,159 INFO streaming.PipeMapRed: R/W/S=1000/806/0 in:NA [rec/s] out:NA [rec/s]\n",
      "2021-12-22 14:40:58,279 INFO streaming.PipeMapRed: R/W/S=10000/9694/0 in:NA [rec/s] out:NA [rec/s]\n",
      "2021-12-22 14:40:59,236 INFO streaming.PipeMapRed: R/W/S=100000/99705/0 in:100000=100000/1 [rec/s] out:99705=99705/1 [rec/s]\n",
      "2021-12-22 14:40:59,343 INFO streaming.PipeMapRed: MRErrorThread done\n",
      "2021-12-22 14:40:59,344 INFO streaming.PipeMapRed: mapRedFinished\n",
      "2021-12-22 14:40:59,344 INFO mapred.LocalJobRunner: \n",
      "2021-12-22 14:40:59,344 INFO mapred.MapTask: Starting flush of map output\n",
      "2021-12-22 14:40:59,344 INFO mapred.MapTask: Spilling map output\n",
      "2021-12-22 14:40:59,344 INFO mapred.MapTask: bufstart = 0; bufend = 2354567; bufvoid = 104857600\n",
      "2021-12-22 14:40:59,345 INFO mapred.MapTask: kvstart = 26214396(104857584); kvend = 25772556(103090224); length = 441841/6553600\n",
      "2021-12-22 14:40:59,451 INFO mapred.MapTask: Finished spill 0\n",
      "2021-12-22 14:40:59,454 INFO mapred.Task: Task:attempt_local1136996728_0001_m_000002_0 is done. And is in the process of committing\n",
      "2021-12-22 14:40:59,460 INFO mapred.LocalJobRunner: Records R/W=604/1\n",
      "2021-12-22 14:40:59,460 INFO mapred.Task: Task 'attempt_local1136996728_0001_m_000002_0' done.\n",
      "2021-12-22 14:40:59,461 INFO mapred.Task: Final Counters for attempt_local1136996728_0001_m_000002_0: Counters: 17\n",
      "\tFile System Counters\n",
      "\t\tFILE: Number of bytes read=100854415\n",
      "\t\tFILE: Number of bytes written=8421717\n",
      "\t\tFILE: Number of read operations=0\n",
      "\t\tFILE: Number of large read operations=0\n",
      "\t\tFILE: Number of write operations=0\n",
      "\tMap-Reduce Framework\n",
      "\t\tMap input records=110462\n",
      "\t\tMap output records=110461\n",
      "\t\tMap output bytes=2354567\n",
      "\t\tMap output materialized bytes=2575495\n",
      "\t\tInput split bytes=116\n",
      "\t\tCombine input records=0\n",
      "\t\tSpilled Records=110461\n",
      "\t\tFailed Shuffles=0\n",
      "\t\tMerged Map outputs=0\n",
      "\t\tGC time elapsed (ms)=306\n",
      "\t\tTotal committed heap usage (bytes)=451936256\n",
      "\tFile Input Format Counters \n",
      "\t\tBytes Read=33558528\n",
      "2021-12-22 14:40:59,461 INFO mapred.LocalJobRunner: Finishing task: attempt_local1136996728_0001_m_000002_0\n",
      "2021-12-22 14:40:59,461 INFO mapred.LocalJobRunner: Starting task: attempt_local1136996728_0001_m_000003_0\n",
      "2021-12-22 14:40:59,462 INFO output.FileOutputCommitter: File Output Committer Algorithm version is 2\n",
      "2021-12-22 14:40:59,462 INFO output.FileOutputCommitter: FileOutputCommitter skip cleanup _temporary folders under output directory:false, ignore cleanup failures: false\n",
      "2021-12-22 14:40:59,462 INFO mapred.Task:  Using ResourceCalculatorProcessTree : [ ]\n",
      "2021-12-22 14:40:59,463 INFO mapred.MapTask: Processing split: file:/home/jovyan/work/SPBD/data/epa_hap_daily_summary-small.csv:100663296+22356869\n",
      "2021-12-22 14:40:59,479 INFO mapred.MapTask: numReduceTasks: 1\n",
      "2021-12-22 14:40:59,504 INFO mapred.MapTask: (EQUATOR) 0 kvi 26214396(104857584)\n",
      "2021-12-22 14:40:59,504 INFO mapred.MapTask: mapreduce.task.io.sort.mb: 100\n",
      "2021-12-22 14:40:59,504 INFO mapred.MapTask: soft limit at 83886080\n",
      "2021-12-22 14:40:59,504 INFO mapred.MapTask: bufstart = 0; bufvoid = 104857600\n",
      "2021-12-22 14:40:59,504 INFO mapred.MapTask: kvstart = 26214396; length = 6553600\n",
      "2021-12-22 14:40:59,505 INFO mapred.MapTask: Map output collector class = org.apache.hadoop.mapred.MapTask$MapOutputBuffer\n",
      "2021-12-22 14:40:59,512 INFO streaming.PipeMapRed: PipeMapRed exec [/opt/conda/bin/python, ./P1/map_p1_01.py]\n",
      "2021-12-22 14:40:59,530 INFO streaming.PipeMapRed: R/W/S=1/0/0 in:NA [rec/s] out:NA [rec/s]\n",
      "2021-12-22 14:40:59,530 INFO streaming.PipeMapRed: R/W/S=10/0/0 in:NA [rec/s] out:NA [rec/s]\n",
      "2021-12-22 14:40:59,532 INFO streaming.PipeMapRed: R/W/S=100/0/0 in:NA [rec/s] out:NA [rec/s]\n"
     ]
    },
    {
     "name": "stdout",
     "output_type": "stream",
     "text": [
      "2021-12-22 14:40:59,595 INFO streaming.PipeMapRed: Records R/W=486/1\n",
      "2021-12-22 14:40:59,602 INFO streaming.PipeMapRed: R/W/S=1000/803/0 in:NA [rec/s] out:NA [rec/s]\n",
      "2021-12-22 14:40:59,721 INFO streaming.PipeMapRed: R/W/S=10000/9673/0 in:NA [rec/s] out:NA [rec/s]\n",
      "2021-12-22 14:41:00,600 INFO streaming.PipeMapRed: MRErrorThread done\n",
      "2021-12-22 14:41:00,601 INFO streaming.PipeMapRed: mapRedFinished\n",
      "2021-12-22 14:41:00,602 INFO mapred.LocalJobRunner: \n",
      "2021-12-22 14:41:00,602 INFO mapred.MapTask: Starting flush of map output\n",
      "2021-12-22 14:41:00,602 INFO mapred.MapTask: Spilling map output\n",
      "2021-12-22 14:41:00,602 INFO mapred.MapTask: bufstart = 0; bufend = 1568185; bufvoid = 104857600\n",
      "2021-12-22 14:41:00,602 INFO mapred.MapTask: kvstart = 26214396(104857584); kvend = 25920200(103680800); length = 294197/6553600\n",
      "2021-12-22 14:41:00,679 INFO mapred.MapTask: Finished spill 0\n",
      "2021-12-22 14:41:00,681 INFO mapred.Task: Task:attempt_local1136996728_0001_m_000003_0 is done. And is in the process of committing\n",
      "2021-12-22 14:41:00,687 INFO mapred.LocalJobRunner: Records R/W=486/1\n",
      "2021-12-22 14:41:00,687 INFO mapred.Task: Task 'attempt_local1136996728_0001_m_000003_0' done.\n",
      "2021-12-22 14:41:00,687 INFO mapred.Task: Final Counters for attempt_local1136996728_0001_m_000003_0: Counters: 17\n",
      "\tFile System Counters\n",
      "\t\tFILE: Number of bytes read=123211767\n",
      "\t\tFILE: Number of bytes written=10137040\n",
      "\t\tFILE: Number of read operations=0\n",
      "\t\tFILE: Number of large read operations=0\n",
      "\t\tFILE: Number of write operations=0\n",
      "\tMap-Reduce Framework\n",
      "\t\tMap input records=73551\n",
      "\t\tMap output records=73550\n",
      "\t\tMap output bytes=1568185\n",
      "\t\tMap output materialized bytes=1715291\n",
      "\t\tInput split bytes=116\n",
      "\t\tCombine input records=0\n",
      "\t\tSpilled Records=73550\n",
      "\t\tFailed Shuffles=0\n",
      "\t\tMerged Map outputs=0\n",
      "\t\tGC time elapsed (ms)=89\n",
      "\t\tTotal committed heap usage (bytes)=705167360\n",
      "\tFile Input Format Counters \n",
      "\t\tBytes Read=22356869\n",
      "2021-12-22 14:41:00,687 INFO mapred.LocalJobRunner: Finishing task: attempt_local1136996728_0001_m_000003_0\n",
      "2021-12-22 14:41:00,688 INFO mapred.LocalJobRunner: map task executor complete.\n",
      "2021-12-22 14:41:00,691 INFO mapred.LocalJobRunner: Waiting for reduce tasks\n",
      "2021-12-22 14:41:00,691 INFO mapred.LocalJobRunner: Starting task: attempt_local1136996728_0001_r_000000_0\n",
      "2021-12-22 14:41:00,696 INFO output.FileOutputCommitter: File Output Committer Algorithm version is 2\n",
      "2021-12-22 14:41:00,696 INFO output.FileOutputCommitter: FileOutputCommitter skip cleanup _temporary folders under output directory:false, ignore cleanup failures: false\n",
      "2021-12-22 14:41:00,696 INFO mapred.Task:  Using ResourceCalculatorProcessTree : [ ]\n",
      "2021-12-22 14:41:00,698 INFO mapred.ReduceTask: Using ShuffleConsumerPlugin: org.apache.hadoop.mapreduce.task.reduce.Shuffle@59d87bb0\n",
      "2021-12-22 14:41:00,699 WARN impl.MetricsSystemImpl: JobTracker metrics system already initialized!\n",
      "2021-12-22 14:41:00,713 INFO reduce.MergeManagerImpl: MergerManager: memoryLimit=1286707584, maxSingleShuffleLimit=321676896, mergeThreshold=849227008, ioSortFactor=10, memToMemMergeOutputsThreshold=10\n",
      "2021-12-22 14:41:00,716 INFO reduce.EventFetcher: attempt_local1136996728_0001_r_000000_0 Thread started: EventFetcher for fetching Map Completion Events\n",
      "2021-12-22 14:41:00,739 INFO reduce.LocalFetcher: localfetcher#1 about to shuffle output of map attempt_local1136996728_0001_m_000001_0 decomp: 2574660 len: 2574664 to MEMORY\n",
      "2021-12-22 14:41:00,743 INFO reduce.InMemoryMapOutput: Read 2574660 bytes from map-output for attempt_local1136996728_0001_m_000001_0\n",
      "2021-12-22 14:41:00,744 INFO reduce.MergeManagerImpl: closeInMemoryFile -> map-output of size: 2574660, inMemoryMapOutputs.size() -> 1, commitMemory -> 0, usedMemory ->2574660\n",
      "2021-12-22 14:41:00,747 INFO reduce.LocalFetcher: localfetcher#1 about to shuffle output of map attempt_local1136996728_0001_m_000002_0 decomp: 2575491 len: 2575495 to MEMORY\n",
      "2021-12-22 14:41:00,749 INFO reduce.InMemoryMapOutput: Read 2575491 bytes from map-output for attempt_local1136996728_0001_m_000002_0\n",
      "2021-12-22 14:41:00,749 INFO reduce.MergeManagerImpl: closeInMemoryFile -> map-output of size: 2575491, inMemoryMapOutputs.size() -> 2, commitMemory -> 2574660, usedMemory ->5150151\n",
      "2021-12-22 14:41:00,750 INFO reduce.LocalFetcher: localfetcher#1 about to shuffle output of map attempt_local1136996728_0001_m_000000_0 decomp: 2572333 len: 2572337 to MEMORY\n",
      "2021-12-22 14:41:00,752 INFO reduce.InMemoryMapOutput: Read 2572333 bytes from map-output for attempt_local1136996728_0001_m_000000_0\n",
      "2021-12-22 14:41:00,752 INFO reduce.MergeManagerImpl: closeInMemoryFile -> map-output of size: 2572333, inMemoryMapOutputs.size() -> 3, commitMemory -> 5150151, usedMemory ->7722484\n",
      "2021-12-22 14:41:00,753 INFO reduce.LocalFetcher: localfetcher#1 about to shuffle output of map attempt_local1136996728_0001_m_000003_0 decomp: 1715287 len: 1715291 to MEMORY\n",
      "2021-12-22 14:41:00,755 INFO reduce.InMemoryMapOutput: Read 1715287 bytes from map-output for attempt_local1136996728_0001_m_000003_0\n",
      "2021-12-22 14:41:00,755 INFO reduce.MergeManagerImpl: closeInMemoryFile -> map-output of size: 1715287, inMemoryMapOutputs.size() -> 4, commitMemory -> 7722484, usedMemory ->9437771\n",
      "2021-12-22 14:41:00,755 INFO reduce.EventFetcher: EventFetcher is interrupted.. Returning\n",
      "2021-12-22 14:41:00,756 INFO mapred.LocalJobRunner: 4 / 4 copied.\n",
      "2021-12-22 14:41:00,756 INFO reduce.MergeManagerImpl: finalMerge called with 4 in-memory map-outputs and 0 on-disk map-outputs\n",
      "2021-12-22 14:41:00,761 INFO mapred.Merger: Merging 4 sorted segments\n",
      "2021-12-22 14:41:00,762 INFO mapred.Merger: Down to the last merge-pass, with 4 segments left of total size: 9437687 bytes\n",
      "2021-12-22 14:41:01,010 INFO reduce.MergeManagerImpl: Merged 4 segments, 9437771 bytes to disk to satisfy reduce memory limit\n",
      "2021-12-22 14:41:01,011 INFO reduce.MergeManagerImpl: Merging 1 files, 9437769 bytes from disk\n",
      "2021-12-22 14:41:01,011 INFO reduce.MergeManagerImpl: Merging 0 segments, 0 bytes from memory into reduce\n",
      "2021-12-22 14:41:01,011 INFO mapred.Merger: Merging 1 sorted segments\n",
      "2021-12-22 14:41:01,011 INFO mapred.Merger: Down to the last merge-pass, with 1 segments left of total size: 9437744 bytes\n",
      "2021-12-22 14:41:01,012 INFO mapred.LocalJobRunner: 4 / 4 copied.\n",
      "2021-12-22 14:41:01,019 INFO streaming.PipeMapRed: PipeMapRed exec [/opt/conda/bin/python, ./P1/reduce_p1_01.py]\n",
      "2021-12-22 14:41:01,021 INFO Configuration.deprecation: mapred.job.tracker is deprecated. Instead, use mapreduce.jobtracker.address\n",
      "2021-12-22 14:41:01,021 INFO Configuration.deprecation: mapred.map.tasks is deprecated. Instead, use mapreduce.job.maps\n",
      "2021-12-22 14:41:01,158 INFO streaming.PipeMapRed: R/W/S=1/0/0 in:NA [rec/s] out:NA [rec/s]\n",
      "2021-12-22 14:41:01,158 INFO streaming.PipeMapRed: R/W/S=10/0/0 in:NA [rec/s] out:NA [rec/s]\n",
      "2021-12-22 14:41:01,159 INFO streaming.PipeMapRed: R/W/S=100/0/0 in:NA [rec/s] out:NA [rec/s]\n",
      "2021-12-22 14:41:01,167 INFO streaming.PipeMapRed: R/W/S=1000/0/0 in:NA [rec/s] out:NA [rec/s]\n",
      "2021-12-22 14:41:01,187 INFO streaming.PipeMapRed: R/W/S=10000/0/0 in:NA [rec/s] out:NA [rec/s]\n",
      "2021-12-22 14:41:01,373 INFO streaming.PipeMapRed: R/W/S=100000/0/0 in:NA [rec/s] out:NA [rec/s]\n",
      "2021-12-22 14:41:01,410 INFO streaming.PipeMapRed: Records R/W=124034/1\n",
      "2021-12-22 14:41:01,477 INFO streaming.PipeMapRed: R/W/S=200000/541/0 in:NA [rec/s] out:NA [rec/s]\n",
      "2021-12-22 14:41:01,549 INFO streaming.PipeMapRed: R/W/S=300000/1127/0 in:NA [rec/s] out:NA [rec/s]\n",
      "2021-12-22 14:41:01,628 INFO streaming.PipeMapRed: R/W/S=400000/1701/0 in:NA [rec/s] out:NA [rec/s]\n",
      "2021-12-22 14:41:01,645 INFO streaming.PipeMapRed: MRErrorThread done\n",
      "2021-12-22 14:41:01,645 INFO streaming.PipeMapRed: mapRedFinished\n",
      "2021-12-22 14:41:01,651 INFO mapred.Task: Task:attempt_local1136996728_0001_r_000000_0 is done. And is in the process of committing\n",
      "2021-12-22 14:41:01,682 INFO mapred.LocalJobRunner: 4 / 4 copied.\n",
      "2021-12-22 14:41:01,682 INFO mapred.Task: Task attempt_local1136996728_0001_r_000000_0 is allowed to commit now\n",
      "2021-12-22 14:41:01,847 INFO output.FileOutputCommitter: Saved output of task 'attempt_local1136996728_0001_r_000000_0' to file:/home/jovyan/work/SPBD/map-reduce/P1/p1_01\n",
      "2021-12-22 14:41:01,849 INFO mapred.LocalJobRunner: Records R/W=124034/1 > reduce\n",
      "2021-12-22 14:41:01,849 INFO mapred.Task: Task 'attempt_local1136996728_0001_r_000000_0' done.\n",
      "2021-12-22 14:41:01,849 INFO mapred.Task: Final Counters for attempt_local1136996728_0001_r_000000_0: Counters: 24\n",
      "\tFile System Counters\n",
      "\t\tFILE: Number of bytes read=142087451\n",
      "\t\tFILE: Number of bytes written=19602629\n",
      "\t\tFILE: Number of read operations=0\n",
      "\t\tFILE: Number of large read operations=0\n",
      "\t\tFILE: Number of write operations=0\n",
      "\tMap-Reduce Framework\n",
      "\t\tCombine input records=0\n",
      "\t\tCombine output records=0\n",
      "\t\tReduce input groups=1787\n",
      "\t\tReduce shuffle bytes=9437787\n",
      "\t\tReduce input records=404850\n",
      "\t\tReduce output records=1787\n",
      "\t\tSpilled Records=404850\n",
      "\t\tShuffled Maps =4\n",
      "\t\tFailed Shuffles=0\n",
      "\t\tMerged Map outputs=4\n",
      "\t\tGC time elapsed (ms)=0\n",
      "\t\tTotal committed heap usage (bytes)=705167360\n",
      "\tShuffle Errors\n",
      "\t\tBAD_ID=0\n",
      "\t\tCONNECTION=0\n",
      "\t\tIO_ERROR=0\n",
      "\t\tWRONG_LENGTH=0\n",
      "\t\tWRONG_MAP=0\n",
      "\t\tWRONG_REDUCE=0\n",
      "\tFile Output Format Counters \n",
      "\t\tBytes Written=27820\n",
      "2021-12-22 14:41:01,850 INFO mapred.LocalJobRunner: Finishing task: attempt_local1136996728_0001_r_000000_0\n",
      "2021-12-22 14:41:01,850 INFO mapred.LocalJobRunner: reduce task executor complete.\n"
     ]
    },
    {
     "name": "stdout",
     "output_type": "stream",
     "text": [
      "2021-12-22 14:41:02,526 INFO mapreduce.Job:  map 100% reduce 100%\r\n",
      "2021-12-22 14:41:02,527 INFO mapreduce.Job: Job job_local1136996728_0001 completed successfully\r\n",
      "2021-12-22 14:41:02,545 INFO mapreduce.Job: Counters: 30\r\n",
      "\tFile System Counters\r\n",
      "\t\tFILE: Number of bytes read=467185430\r\n",
      "\t\tFILE: Number of bytes written=47279070\r\n",
      "\t\tFILE: Number of read operations=0\r\n",
      "\t\tFILE: Number of large read operations=0\r\n",
      "\t\tFILE: Number of write operations=0\r\n",
      "\tMap-Reduce Framework\r\n",
      "\t\tMap input records=404854\r\n",
      "\t\tMap output records=404850\r\n",
      "\t\tMap output bytes=8628063\r\n",
      "\t\tMap output materialized bytes=9437787\r\n",
      "\t\tInput split bytes=464\r\n",
      "\t\tCombine input records=0\r\n",
      "\t\tCombine output records=0\r\n",
      "\t\tReduce input groups=1787\r\n",
      "\t\tReduce shuffle bytes=9437787\r\n",
      "\t\tReduce input records=404850\r\n",
      "\t\tReduce output records=1787\r\n",
      "\t\tSpilled Records=809700\r\n",
      "\t\tShuffled Maps =4\r\n",
      "\t\tFailed Shuffles=0\r\n",
      "\t\tMerged Map outputs=4\r\n",
      "\t\tGC time elapsed (ms)=402\r\n",
      "\t\tTotal committed heap usage (bytes)=2558001152\r\n",
      "\tShuffle Errors\r\n",
      "\t\tBAD_ID=0\r\n",
      "\t\tCONNECTION=0\r\n",
      "\t\tIO_ERROR=0\r\n",
      "\t\tWRONG_LENGTH=0\r\n",
      "\t\tWRONG_MAP=0\r\n",
      "\t\tWRONG_REDUCE=0\r\n",
      "\tFile Input Format Counters \r\n",
      "\t\tBytes Read=123032453\r\n",
      "\tFile Output Format Counters \r\n",
      "\t\tBytes Written=27820\r\n",
      "2021-12-22 14:41:02,545 INFO streaming.StreamJob: Output directory: ./P1/p1_01\r\n"
     ]
    }
   ],
   "source": [
    "!hadoop jar /opt/hadoop-3.2.0/share/hadoop/tools/lib/hadoop-*streaming*.jar -files ./P1/map_p1_01.py,./P1/reduce_p1_01.py -mapper \"python ./P1/map_p1_01.py\" -reducer \"python ./P1/reduce_p1_01.py\" -input ../data/epa_hap_daily_summary-small.csv -output ./P1/p1_01.result"
   ]
  },
  {
   "cell_type": "markdown",
   "metadata": {},
   "source": [
    "#### P1.02"
   ]
  },
  {
   "cell_type": "markdown",
   "metadata": {},
   "source": [
    "##### Mapper"
   ]
  },
  {
   "cell_type": "code",
   "execution_count": 7,
   "metadata": {},
   "outputs": [],
   "source": [
    "%load ./map-reduce/P1/map_p1_02.py\n",
    "from sys import stdin\n",
    "import logging\n",
    "\n",
    "MAGIC = 999999999\n",
    "\n",
    "def main():\n",
    "    stdin.readline()\n",
    "    for line in stdin:\n",
    "        line = line.strip()\n",
    "        logging.debug(line)\n",
    "        key, value = line.split(':')\n",
    "        print(f\"{MAGIC - int(value)}:{key}\")\n",
    "\n",
    "\n",
    "if __name__ == '__main__':\n",
    "    logging.basicConfig(filename='./map-reduce/debug.log', level=logging.DEBUG)\n",
    "    main()"
   ]
  },
  {
   "cell_type": "markdown",
   "metadata": {},
   "source": [
    "##### Reducer"
   ]
  },
  {
   "cell_type": "code",
   "execution_count": 8,
   "metadata": {},
   "outputs": [],
   "source": [
    "%load ./map-reduce/P1/map_p1_02.py\n",
    "from sys import stdin\n",
    "import logging\n",
    "\n",
    "MAGIC = 999999999\n",
    "\n",
    "def main():\n",
    "    stdin.readline()\n",
    "    for line in stdin:\n",
    "        line = line.strip()\n",
    "        logging.debug(line)\n",
    "        key, value = line.split(':')\n",
    "        print(f\"{MAGIC - int(value)}:{key}\")\n",
    "\n",
    "\n",
    "if __name__ == '__main__':\n",
    "    logging.basicConfig(filename='./map-reduce/debug.log', level=logging.DEBUG)\n",
    "    main()"
   ]
  },
  {
   "cell_type": "markdown",
   "metadata": {},
   "source": [
    "##### Result"
   ]
  },
  {
   "cell_type": "code",
   "execution_count": 9,
   "metadata": {},
   "outputs": [],
   "source": [
    "!hadoop jar /opt/hadoop-3.2.0/share/hadoop/tools/lib/hadoop-*streaming*.jar -files ./P1/map_p1_02.py,./P1/reduce_p1_02.py -mapper \"python ./P1/map_p1_02.py\" -reducer \"python ./P1/reduce_p1_02.py\" -input ./P1/p1_01.result/part-* -output ./P1/p1_02.result"
   ]
  },
  {
   "cell_type": "markdown",
   "metadata": {},
   "source": [
    "#### Result P1"
   ]
  },
  {
   "cell_type": "code",
   "execution_count": 10,
   "metadata": {},
   "outputs": [
    {
     "name": "stdout",
     "output_type": "stream",
     "text": [
      "1. Texas:51237\r\n",
      "2. California:43803\r\n",
      "3. Minnesota:22084\r\n",
      "4. New York:17570\r\n",
      "5. Michigan:15280\r\n",
      "6. Pennsylvania:13680\r\n",
      "7. Arizona:11379\r\n",
      "8. Florida:10994\r\n",
      "9. Indiana:10951\r\n",
      "10. Illinois:10018\r\n",
      "11. South Carolina:9716\r\n",
      "12. Georgia:9050\r\n",
      "13. Washington:8865\r\n",
      "14. Ohio:8561\r\n",
      "15. Colorado:8506\r\n",
      "16. Oregon:7857\r\n",
      "17. North Carolina:7565\r\n",
      "18. Rhode Island:6919\r\n",
      "19. Kansas:6898\r\n",
      "20. Maryland:6846\r\n",
      "21. Montana:6406\r\n",
      "22. New Jersey:6403\r\n",
      "23. Virginia:6376\r\n",
      "24. Massachusetts:6109\r\n",
      "25. Kentucky:6094\r\n",
      "26. Oklahoma:5711\r\n",
      "27. Maine:5286\r\n",
      "28. Vermont:4858\r\n",
      "29. Utah:4852\r\n",
      "30. Missouri:4742\r\n",
      "31. Louisiana:4674\r\n",
      "32. Wisconsin:4007\r\n",
      "33. New Mexico:3973\r\n",
      "34. Tennessee:3626\r\n",
      "35. Iowa:3542\r\n",
      "36. Alaska:3216\r\n",
      "37. Wyoming:3149\r\n",
      "38. West Virginia:2998\r\n",
      "39. District Of Columbia:2964\r\n",
      "40. Idaho:2825\r\n",
      "41. South Dakota:2734\r\n",
      "42. Delaware:2469\r\n",
      "43. Nevada:2297\r\n",
      "44. Mississippi:2245\r\n",
      "45. New Hampshire:1967\r\n",
      "46. North Dakota:1934\r\n",
      "47. Hawaii:1926\r\n",
      "48. Arkansas:1655\r\n",
      "49. Nebraska:1350\r\n",
      "50. Connecticut:1290\r\n",
      "51. Virgin Islands:651\r\n",
      "52. Country Of Mexico:523\r\n",
      "53. Puerto Rico:521\r\n"
     ]
    }
   ],
   "source": [
    "!cat ./P1/p1_02.log"
   ]
  },
  {
   "cell_type": "markdown",
   "metadata": {},
   "source": [
    "### P2"
   ]
  },
  {
   "cell_type": "markdown",
   "metadata": {},
   "source": [
    "#### P2.01"
   ]
  },
  {
   "cell_type": "markdown",
   "metadata": {},
   "source": [
    "##### Mapper"
   ]
  },
  {
   "cell_type": "code",
   "execution_count": 11,
   "metadata": {},
   "outputs": [],
   "source": [
    "# %load ./map-reduce/P2/Map2A.py\n",
    "\n",
    "# Map-Reduce written in python to rank counties based on air quality\n",
    "# The strategy for this will be to generate tuples of county codes(key) and arithmetic mean value of pollutant values\n",
    "# We ignore the units(ppb and ug/m^3) and compare the values directly since we don't have the M(molecular weight) and temperature\n",
    "\n",
    "import sys\n",
    "file = sys.stdin\n",
    "file.readline() # Skips the header line\n",
    "for line in file:\n",
    "    line = line.strip()\n",
    "    words = line.split(',')\n",
    "    print(\"%s\\t%s\\t%s\" % (words[1], words[16], words[25]))"
   ]
  },
  {
   "cell_type": "markdown",
   "metadata": {},
   "source": [
    "##### Reducer"
   ]
  },
  {
   "cell_type": "code",
   "execution_count": 12,
   "metadata": {},
   "outputs": [],
   "source": [
    "# %load ./map-reduce/P2/Reduce2A.py\n",
    "import sys\n",
    "\n",
    "currentCode = None\n",
    "currentName = None\n",
    "meanSum = 0.0\n",
    "totalNR = 0\n",
    "\n",
    "for line in sys.stdin:\n",
    "    line = line.strip()\n",
    "    countyCode, mean, name = line.split('\\t')\n",
    "    mean = float(mean)\n",
    "    if countyCode == currentCode:\n",
    "        meanSum += mean\n",
    "        totalNR += 1\n",
    "    else:\n",
    "        if currentCode:\n",
    "            print(\"%s\\t%s\\t%s\" % (currentCode, currentName, meanSum/totalNR))\n",
    "        currentCode = countyCode\n",
    "        currentName = name\n",
    "        meanSum = mean\n",
    "        totalNR = 1\n",
    "if currentCode:\n",
    "    print(\"%s\\t%s\\t%s\" % (currentCode, currentName, meanSum/totalNR))\n",
    "\n",
    "            "
   ]
  },
  {
   "cell_type": "markdown",
   "metadata": {},
   "source": [
    "##### Result"
   ]
  },
  {
   "cell_type": "code",
   "execution_count": 13,
   "metadata": {},
   "outputs": [],
   "source": [
    "!cat ./data/epa_hap_daily_summary-small.csv | python map-reduce/P2/Map2A.py |sort -k1,1 | python map-reduce/P2/Reduce2A.py > ./map-reduce/P2/p2_01.log "
   ]
  },
  {
   "cell_type": "markdown",
   "metadata": {},
   "source": [
    "#### P2.02"
   ]
  },
  {
   "cell_type": "markdown",
   "metadata": {},
   "source": [
    "##### Mapper"
   ]
  },
  {
   "cell_type": "code",
   "execution_count": 14,
   "metadata": {},
   "outputs": [],
   "source": [
    "# %load ./map-reduce/P2/Map2B.py\n",
    "import sys\n",
    "\n",
    "for line in sys.stdin:\n",
    "    line = line.strip()\n",
    "    code, name, value = line.split('\\t')\n",
    "    value = float(value)\n",
    "    print(\"{0:.5f}\\t{1}\\t{2}\".format(value, code, name))"
   ]
  },
  {
   "cell_type": "markdown",
   "metadata": {},
   "source": [
    "##### Reducer"
   ]
  },
  {
   "cell_type": "code",
   "execution_count": 15,
   "metadata": {},
   "outputs": [],
   "source": [
    "# %load ./map-reduce/P2/Reduce2B.py\n",
    "import sys\n",
    "\n",
    "for line in sys.stdin:\n",
    "    line = line.strip()\n",
    "    value, code, name = line.split('\\t')\n",
    "    print(\"%s\\t%s\\t%s\" % (code, name, value))"
   ]
  },
  {
   "cell_type": "markdown",
   "metadata": {},
   "source": [
    "##### Result"
   ]
  },
  {
   "cell_type": "code",
   "execution_count": 16,
   "metadata": {},
   "outputs": [],
   "source": [
    "!cat ./data/epa_hap_daily_summary-small.csv | python map-reduce/P2/Map2A.py | sort -k1,1 | python map-reduce/P2/Reduce2A.py | python map-reduce/P2/Map2B.py | sort -k1,1 | python map-reduce/P2/Reduce2B.py > ./map-reduce/P2/p2_02.log"
   ]
  },
  {
   "cell_type": "markdown",
   "metadata": {},
   "source": [
    "#### Result P2"
   ]
  },
  {
   "cell_type": "code",
   "execution_count": 17,
   "metadata": {},
   "outputs": [
    {
     "name": "stdout",
     "output_type": "stream",
     "text": [
      "1. Texas:51237\r\n",
      "2. California:43803\r\n",
      "3. Minnesota:22084\r\n",
      "4. New York:17570\r\n",
      "5. Michigan:15280\r\n",
      "6. Pennsylvania:13680\r\n",
      "7. Arizona:11379\r\n",
      "8. Florida:10994\r\n",
      "9. Indiana:10951\r\n",
      "10. Illinois:10018\r\n",
      "11. South Carolina:9716\r\n",
      "12. Georgia:9050\r\n",
      "13. Washington:8865\r\n",
      "14. Ohio:8561\r\n",
      "15. Colorado:8506\r\n",
      "16. Oregon:7857\r\n",
      "17. North Carolina:7565\r\n",
      "18. Rhode Island:6919\r\n",
      "19. Kansas:6898\r\n",
      "20. Maryland:6846\r\n",
      "21. Montana:6406\r\n",
      "22. New Jersey:6403\r\n",
      "23. Virginia:6376\r\n",
      "24. Massachusetts:6109\r\n",
      "25. Kentucky:6094\r\n",
      "26. Oklahoma:5711\r\n",
      "27. Maine:5286\r\n",
      "28. Vermont:4858\r\n",
      "29. Utah:4852\r\n",
      "30. Missouri:4742\r\n",
      "31. Louisiana:4674\r\n",
      "32. Wisconsin:4007\r\n",
      "33. New Mexico:3973\r\n",
      "34. Tennessee:3626\r\n",
      "35. Iowa:3542\r\n",
      "36. Alaska:3216\r\n",
      "37. Wyoming:3149\r\n",
      "38. West Virginia:2998\r\n",
      "39. District Of Columbia:2964\r\n",
      "40. Idaho:2825\r\n",
      "41. South Dakota:2734\r\n",
      "42. Delaware:2469\r\n",
      "43. Nevada:2297\r\n",
      "44. Mississippi:2245\r\n",
      "45. New Hampshire:1967\r\n",
      "46. North Dakota:1934\r\n",
      "47. Hawaii:1926\r\n",
      "48. Arkansas:1655\r\n",
      "49. Nebraska:1350\r\n",
      "50. Connecticut:1290\r\n",
      "51. Virgin Islands:651\r\n",
      "52. Country Of Mexico:523\r\n",
      "53. Puerto Rico:521\r\n"
     ]
    }
   ],
   "source": [
    "!cat ./map-reduce/P1/p1_02.log"
   ]
  },
  {
   "cell_type": "code",
   "execution_count": null,
   "metadata": {},
   "outputs": [],
   "source": []
  }
 ],
 "metadata": {
  "kernelspec": {
   "display_name": "Python 3",
   "language": "python",
   "name": "python3"
  },
  "language_info": {
   "codemirror_mode": {
    "name": "ipython",
    "version": 3
   },
   "file_extension": ".py",
   "mimetype": "text/x-python",
   "name": "python",
   "nbconvert_exporter": "python",
   "pygments_lexer": "ipython3",
   "version": "3.7.3"
  }
 },
 "nbformat": 4,
 "nbformat_minor": 2
}
